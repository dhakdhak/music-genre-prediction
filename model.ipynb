{
  "nbformat": 4,
  "nbformat_minor": 0,
  "metadata": {
    "colab": {
      "name": "model.ipynb",
      "provenance": []
    },
    "kernelspec": {
      "name": "python3",
      "display_name": "Python 3"
    },
    "language_info": {
      "name": "python"
    },
    "accelerator": "GPU"
  },
  "cells": [
    {
      "cell_type": "code",
      "metadata": {
        "id": "9ShTOfGoe9Gn"
      },
      "source": [
        "from tensorflow.keras.layers import Conv2D,Flatten,Dense,MaxPool2D,BatchNormalization,GlobalAveragePooling2D\n",
        "from tensorflow.keras.applications.resnet50 import preprocess_input,decode_predictions,ResNet50\n",
        "from tensorflow.keras.preprocessing.image import ImageDataGenerator,load_img\n",
        "from tensorflow.keras.preprocessing import image\n",
        "from tensorflow.keras.models import Sequential,Model\n",
        "import matplotlib.pyplot as plt\n",
        "import numpy as np"
      ],
      "execution_count": 1,
      "outputs": []
    },
    {
      "cell_type": "code",
      "metadata": {
        "id": "BLgMhuYygLT0"
      },
      "source": [
        "height = 266\n",
        "width = 416\n",
        "batch_size = 32"
      ],
      "execution_count": 2,
      "outputs": []
    },
    {
      "cell_type": "code",
      "metadata": {
        "id": "Okdn1yCcgoaR"
      },
      "source": [
        "train_data_dir = '/content/drive/MyDrive/music_split_data/train'\n",
        "test_data_dir = '/content/drive/MyDrive/music_split_data/test'\n",
        "val_data_dir = '/content/drive/MyDrive/music_split_data/val'"
      ],
      "execution_count": 3,
      "outputs": []
    },
    {
      "cell_type": "code",
      "metadata": {
        "colab": {
          "base_uri": "https://localhost:8080/"
        },
        "id": "PWLeHGang36s",
        "outputId": "fd152760-add5-400f-ce7e-c9c22d661cd4"
      },
      "source": [
        "data_generator = ImageDataGenerator(preprocessing_function=preprocess_input,\n",
        "                                    shear_range=0.2,\n",
        "                                    zoom_range=0.2,\n",
        "                                    horizontal_flip=True,\n",
        "                                    validation_split=0.4)\n",
        "train_data = data_generator.flow_from_directory(train_data_dir,\n",
        "                                                target_size=(height,width),\n",
        "                                                batch_size=batch_size,\n",
        "                                                class_mode='categorical',\n",
        "                                                subset='training')\n",
        "val_data = data_generator.flow_from_directory(train_data_dir,\n",
        "                                                target_size=(height,width),\n",
        "                                                batch_size=batch_size,\n",
        "                                                class_mode='categorical',\n",
        "                                                subset='validation')\n",
        "test_data = data_generator.flow_from_directory(train_data_dir,\n",
        "                                                target_size=(height,width),\n",
        "                                                batch_size=1,\n",
        "                                                class_mode='categorical',\n",
        "                                                subset='validation')"
      ],
      "execution_count": 5,
      "outputs": [
        {
          "output_type": "stream",
          "name": "stdout",
          "text": [
            "Found 2158 images belonging to 10 classes.\n",
            "Found 1438 images belonging to 10 classes.\n",
            "Found 1438 images belonging to 10 classes.\n"
          ]
        }
      ]
    },
    {
      "cell_type": "code",
      "metadata": {
        "colab": {
          "base_uri": "https://localhost:8080/"
        },
        "id": "CTvlUsbSkBLk",
        "outputId": "d617b41e-4506-48f6-e778-1d867dd023eb"
      },
      "source": [
        "x,y = train_data.next()\n",
        "x.shape"
      ],
      "execution_count": 6,
      "outputs": [
        {
          "output_type": "execute_result",
          "data": {
            "text/plain": [
              "(32, 266, 416, 3)"
            ]
          },
          "metadata": {},
          "execution_count": 6
        }
      ]
    },
    {
      "cell_type": "code",
      "metadata": {
        "colab": {
          "base_uri": "https://localhost:8080/"
        },
        "id": "NiVcTtHxkhFS",
        "outputId": "9566e2aa-6b55-419c-90f1-43f7b2db64c7"
      },
      "source": [
        "base_model = ResNet50(include_top=False,weights='imagenet')\n",
        "x = base_model.output\n",
        "x = GlobalAveragePooling2D()(x)\n",
        "x = Dense(1024,activation='relu')(x)\n",
        "prediction = Dense(10,activation='softmax')(x)\n",
        "model = Model(inputs=base_model.input,outputs=prediction)\n",
        "\n",
        "for layer in base_model.layers:\n",
        "  layer.trainable = False\n",
        "\n",
        "model.compile(optimizer='adam',loss='categorical_crossentropy',metrics=['accuracy'])\n",
        "model.fit(train_data,epochs=10)"
      ],
      "execution_count": 8,
      "outputs": [
        {
          "output_type": "stream",
          "name": "stdout",
          "text": [
            "Epoch 1/10\n",
            "68/68 [==============================] - 452s 6s/step - loss: 1.7078 - accuracy: 0.4713\n",
            "Epoch 2/10\n",
            "68/68 [==============================] - 72s 1s/step - loss: 1.0776 - accuracy: 0.6219\n",
            "Epoch 3/10\n",
            "68/68 [==============================] - 72s 1s/step - loss: 0.8873 - accuracy: 0.6969\n",
            "Epoch 4/10\n",
            "68/68 [==============================] - 72s 1s/step - loss: 0.8178 - accuracy: 0.7229\n",
            "Epoch 5/10\n",
            "68/68 [==============================] - 72s 1s/step - loss: 0.7455 - accuracy: 0.7340\n",
            "Epoch 6/10\n",
            "68/68 [==============================] - 72s 1s/step - loss: 0.7013 - accuracy: 0.7456\n",
            "Epoch 7/10\n",
            "68/68 [==============================] - 72s 1s/step - loss: 0.6352 - accuracy: 0.7850\n",
            "Epoch 8/10\n",
            "68/68 [==============================] - 72s 1s/step - loss: 0.6831 - accuracy: 0.7567\n",
            "Epoch 9/10\n",
            "68/68 [==============================] - 72s 1s/step - loss: 0.5983 - accuracy: 0.7943\n",
            "Epoch 10/10\n",
            "68/68 [==============================] - 71s 1s/step - loss: 0.5650 - accuracy: 0.8044\n"
          ]
        },
        {
          "output_type": "execute_result",
          "data": {
            "text/plain": [
              "<keras.callbacks.History at 0x7fee808e4c90>"
            ]
          },
          "metadata": {},
          "execution_count": 8
        }
      ]
    },
    {
      "cell_type": "code",
      "metadata": {
        "colab": {
          "base_uri": "https://localhost:8080/"
        },
        "id": "-R2xDGF9mDrS",
        "outputId": "b8ec35c6-fe36-4c1b-cb0b-7808dabbff3f"
      },
      "source": [
        "# testing model\n",
        "test_loss, test_acc = model.evaluate(test_data,verbose=2)\n",
        "print(f'test accuracy is {100*test_acc}%')"
      ],
      "execution_count": 9,
      "outputs": [
        {
          "output_type": "stream",
          "name": "stdout",
          "text": [
            "1438/1438 - 289s - loss: 1.5517 - accuracy: 0.5341\n",
            "test accuracy is 53.40750813484192%\n"
          ]
        }
      ]
    },
    {
      "cell_type": "code",
      "metadata": {
        "id": "Je9jDP7hq36k"
      },
      "source": [
        "# code for confusion matrix"
      ],
      "execution_count": null,
      "outputs": []
    }
  ]
}